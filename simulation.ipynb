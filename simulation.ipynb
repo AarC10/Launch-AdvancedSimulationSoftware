{
 "cells": [
  {
   "cell_type": "code",
   "execution_count": 45,
   "outputs": [],
   "source": [
    "%config InlineBackend.figure_formats = ['svg']\n",
    "%matplotlib inline"
   ],
   "metadata": {
    "collapsed": false,
    "pycharm": {
     "name": "#%%\n"
    }
   }
  },
  {
   "cell_type": "code",
   "execution_count": 46,
   "outputs": [
    {
     "ename": "TypeError",
     "evalue": "setAtmosphericModel() got an unexpected keyword argument 'netCDF4'",
     "output_type": "error",
     "traceback": [
      "\u001B[0;31m---------------------------------------------------------------------------\u001B[0m",
      "\u001B[0;31mTypeError\u001B[0m                                 Traceback (most recent call last)",
      "Input \u001B[0;32mIn [46]\u001B[0m, in \u001B[0;36m<cell line: 26>\u001B[0;34m()\u001B[0m\n\u001B[1;32m     23\u001B[0m environment\u001B[38;5;241m.\u001B[39msetDate((launchDate\u001B[38;5;241m.\u001B[39myear, launchDate\u001B[38;5;241m.\u001B[39mmonth, launchDate\u001B[38;5;241m.\u001B[39mday, \u001B[38;5;241m12\u001B[39m))\n\u001B[1;32m     25\u001B[0m \u001B[38;5;66;03m# Weather\u001B[39;00m\n\u001B[0;32m---> 26\u001B[0m \u001B[43menvironment\u001B[49m\u001B[38;5;241;43m.\u001B[39;49m\u001B[43msetAtmosphericModel\u001B[49m\u001B[43m(\u001B[49m\u001B[38;5;28;43mtype\u001B[39;49m\u001B[43m \u001B[49m\u001B[38;5;241;43m=\u001B[39;49m\u001B[43m \u001B[49m\u001B[38;5;124;43m\"\u001B[39;49m\u001B[38;5;124;43mForecast\u001B[39;49m\u001B[38;5;124;43m\"\u001B[39;49m\u001B[43m,\u001B[49m\u001B[43m \u001B[49m\u001B[43mfile\u001B[49m\u001B[43m \u001B[49m\u001B[38;5;241;43m=\u001B[39;49m\u001B[43m \u001B[49m\u001B[38;5;124;43m\"\u001B[39;49m\u001B[38;5;124;43mGFS\u001B[39;49m\u001B[38;5;124;43m\"\u001B[39;49m\u001B[43m,\u001B[49m\u001B[43m \u001B[49m\u001B[43mnetCDF4\u001B[49m\u001B[43m \u001B[49m\u001B[38;5;241;43m=\u001B[39;49m\u001B[43m \u001B[49m\u001B[43mnetCDF4\u001B[49m\u001B[43m)\u001B[49m\n\u001B[1;32m     28\u001B[0m environment\u001B[38;5;241m.\u001B[39minfo()\n",
      "\u001B[0;31mTypeError\u001B[0m: setAtmosphericModel() got an unexpected keyword argument 'netCDF4'"
     ]
    }
   ],
   "source": [
    "# Environment Calculations\n",
    "import datetime\n",
    "import netCDF4\n",
    "from rocketpy import Environment\n",
    "\n",
    "# Rail Conditions\n",
    "railLength = 5.0\n",
    "\n",
    "# GPS of Spaceport America\n",
    "latitude = 32.990254\n",
    "longitude = -106.974998\n",
    "elevation = 1400.0\n",
    "\n",
    "# Initialization\n",
    "environment = Environment(railLength = railLength, latitude = latitude, longitude = longitude, elevation = elevation)\n",
    "\n",
    "# Launch Date\n",
    "year = 2022\n",
    "month = 6\n",
    "day = 22\n",
    "\n",
    "launchDate = datetime.datetime(year, month, day)\n",
    "environment.setDate((launchDate.year, launchDate.month, launchDate.day, 12))\n",
    "\n",
    "# Weather\n",
    "# environment.setAtmosphericModel(type = \"Forecast\", file = \"GFS\")\n",
    "\n",
    "environment.info()"
   ],
   "metadata": {
    "collapsed": false,
    "pycharm": {
     "name": "#%%\n"
    }
   }
  },
  {
   "cell_type": "code",
   "execution_count": null,
   "outputs": [],
   "source": [],
   "metadata": {
    "collapsed": false,
    "pycharm": {
     "name": "#%%\n"
    }
   }
  }
 ],
 "metadata": {
  "kernelspec": {
   "display_name": "Python 3",
   "language": "python",
   "name": "python3"
  },
  "language_info": {
   "codemirror_mode": {
    "name": "ipython",
    "version": 2
   },
   "file_extension": ".py",
   "mimetype": "text/x-python",
   "name": "python",
   "nbconvert_exporter": "python",
   "pygments_lexer": "ipython2",
   "version": "2.7.6"
  }
 },
 "nbformat": 4,
 "nbformat_minor": 0
}